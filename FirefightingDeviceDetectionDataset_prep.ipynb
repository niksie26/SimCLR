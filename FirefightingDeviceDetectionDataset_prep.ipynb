{
 "cells": [
  {
   "cell_type": "code",
   "execution_count": 15,
   "id": "c6df9b20-5d00-444a-ba21-a64b0cc87e1f",
   "metadata": {},
   "outputs": [],
   "source": [
    "import cv2\n",
    "import os\n",
    "from PIL import Image"
   ]
  },
  {
   "cell_type": "code",
   "execution_count": 11,
   "id": "2b3b6289-7f3a-4144-8031-71033638975f",
   "metadata": {},
   "outputs": [],
   "source": [
    "image_dir = \"Dataset/test/images\"\n",
    "label_dir = \"Dataset/test/labels\"\n",
    "output_dir = \"Dataset/out_test\""
   ]
  },
  {
   "cell_type": "code",
   "execution_count": 12,
   "id": "5b5e2712-632e-4b39-be7c-939103a7dd28",
   "metadata": {},
   "outputs": [],
   "source": [
    "def extract_crops(image_dir, label_dir, output_dir):\n",
    "    \"\"\"\n",
    "    Extracts crops from images based on YOLOv7 labels and organizes them by class.\n",
    "\n",
    "    Args:\n",
    "        image_dir: Directory containing images.\n",
    "        label_dir: Directory containing corresponding YOLOv7 label files (.txt).\n",
    "        output_dir: Directory to save extracted crops (subdirectories will be created for each class).\n",
    "    \"\"\"\n",
    "\n",
    "    os.makedirs(output_dir, exist_ok=True)\n",
    "\n",
    "    for image_file in os.listdir(image_dir):\n",
    "        if not image_file.lower().endswith(('.jpg', '.jpeg', '.png')):\n",
    "            continue\n",
    "\n",
    "        image_path = os.path.join(image_dir, image_file)\n",
    "        label_path = os.path.join(label_dir, os.path.splitext(image_file)[0] + '.txt')\n",
    "\n",
    "        if not os.path.exists(label_path):\n",
    "            print(f\"Warning: Label file not found for {image_file}\")\n",
    "            continue\n",
    "\n",
    "        image = cv2.imread(image_path)\n",
    "        if image is None:\n",
    "            print(f\"Error: Could not read image {image_file}\")\n",
    "            continue\n",
    "\n",
    "        height, width, _ = image.shape\n",
    "\n",
    "        with open(label_path, 'r') as f:\n",
    "            for line in f:\n",
    "                try:\n",
    "                    class_id, x_center, y_center, w, h = map(float, line.split())\n",
    "                    class_id = int(class_id)  # Ensure class_id is an integer\n",
    "\n",
    "                    # Create class-specific output directory\n",
    "                    class_output_dir = os.path.join(output_dir, str(class_id)) # Directory name is class_id\n",
    "                    os.makedirs(class_output_dir, exist_ok=True)\n",
    "\n",
    "                    x_center *= width\n",
    "                    y_center *= height\n",
    "                    w *= width\n",
    "                    h *= height\n",
    "\n",
    "                    x1 = int(max(0, x_center - w / 2))\n",
    "                    y1 = int(max(0, y_center - h / 2))\n",
    "                    x2 = int(min(width, x_center + w / 2))\n",
    "                    y2 = int(min(height, y_center + h / 2))\n",
    "\n",
    "                    crop = image[y1:y2, x1:x2]\n",
    "\n",
    "                    if crop.size > 0:\n",
    "                        crop_filename = f\"{os.path.splitext(image_file)[0]}_{class_id}.jpg\"\n",
    "                        crop_path = os.path.join(class_output_dir, crop_filename) # Save in class directory\n",
    "                        cv2.imwrite(crop_path, crop)\n",
    "                    else:\n",
    "                         print(f\"Warning: Empty crop for {image_file}, class {class_id}. Skipping.\")\n",
    "\n",
    "                except ValueError:\n",
    "                    print(f\"Error: Invalid line format in label file for {image_file}: {line.strip()}\")\n"
   ]
  },
  {
   "cell_type": "code",
   "execution_count": 13,
   "id": "ec2fc564-69a5-47ca-b3cc-f2e2bd3ab1d7",
   "metadata": {},
   "outputs": [],
   "source": [
    "extract_crops(image_dir, label_dir, output_dir)"
   ]
  },
  {
   "cell_type": "code",
   "execution_count": 24,
   "id": "78d18346-089c-403d-ad8c-853f96efc7f1",
   "metadata": {},
   "outputs": [],
   "source": [
    "output_dir = \"Dataset/out_valid\""
   ]
  },
  {
   "cell_type": "code",
   "execution_count": 25,
   "id": "e34e4348-989b-4817-8d6c-2c5a77587e5f",
   "metadata": {},
   "outputs": [],
   "source": [
    "def resize_images(data_dir, new_size):\n",
    "    for root, _, files in os.walk(data_dir):\n",
    "        for file in files:\n",
    "            if file.lower().endswith(('.png', '.jpg', '.jpeg')):  # Add other extensions if needed\n",
    "                filepath = os.path.join(root, file)\n",
    "                try:\n",
    "                    img = Image.open(filepath).convert(\"RGB\")  # Open and convert to RGB\n",
    "                    img = img.resize(new_size, Image.LANCZOS) # Resize with antialiasing\n",
    "                    img.save(filepath) # Save the resized image (overwrite original)\n",
    "                except Exception as e:\n",
    "                    print(f\"Error processing {filepath}: {e}\")\n",
    "\n",
    "image_size = (32, 32) # Example size\n",
    "resize_images(output_dir, image_size)"
   ]
  },
  {
   "cell_type": "code",
   "execution_count": 26,
   "id": "c74e7b86-3531-4ee4-a2a2-8020ae057696",
   "metadata": {},
   "outputs": [
    {
     "name": "stdout",
     "output_type": "stream",
     "text": [
      "(32, 32)\n"
     ]
    }
   ],
   "source": [
    "img = Image.open('Dataset/out_valid/10/12-2-1b_PNG.rf.91afaa894bbbd91595911506b9ec46e2_10.jpg')\n",
    "print(img.size)"
   ]
  },
  {
   "cell_type": "code",
   "execution_count": null,
   "id": "36c46403-f7ff-4ced-aca4-0e64542409c1",
   "metadata": {},
   "outputs": [],
   "source": []
  }
 ],
 "metadata": {
  "kernelspec": {
   "display_name": "Python 3 (ipykernel)",
   "language": "python",
   "name": "python3"
  },
  "language_info": {
   "codemirror_mode": {
    "name": "ipython",
    "version": 3
   },
   "file_extension": ".py",
   "mimetype": "text/x-python",
   "name": "python",
   "nbconvert_exporter": "python",
   "pygments_lexer": "ipython3",
   "version": "3.12.7"
  }
 },
 "nbformat": 4,
 "nbformat_minor": 5
}
